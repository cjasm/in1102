{
 "cells": [
  {
   "cell_type": "code",
   "execution_count": 231,
   "metadata": {},
   "outputs": [],
   "source": [
    "import numpy as np\n",
    "import matplotlib.pyplot as plt\n",
    "import pandas as pd\n",
    "import os\n",
    "import seaborn as sns\n",
    "import ast\n",
    "import itertools\n",
    "import re\n",
    "import json"
   ]
  },
  {
   "cell_type": "markdown",
   "metadata": {},
   "source": [
    "//TO DO\n",
    "Correlation between independent and dependent variables (in-out),\n",
    "Correlation between features,\n",
    "Feature Selection"
   ]
  },
  {
   "cell_type": "code",
   "execution_count": 232,
   "metadata": {},
   "outputs": [
    {
     "name": "stdout",
     "output_type": "stream",
     "text": [
      "Shape: (3000, 23)\n"
     ]
    }
   ],
   "source": [
    "dataset = pd.read_csv('../data/train.csv')\n",
    "shape = dataset.shape\n",
    "print(\"Shape:\", shape)\n",
    "X = dataset.iloc[:, 0:-1].values\n",
    "y = dataset.iloc[:, -1].values"
   ]
  },
  {
   "cell_type": "markdown",
   "metadata": {},
   "source": [
    "The columns we have are:\n",
    "\n",
    "    Data Description id - Unique id of each movie.\n",
    "\n",
    "    belongs_to_collection - Contains the TMDB Id, Name, Movie Poster and Backdrop URL of a movie in JSON format. Missing values are coded as NaN.\n",
    "\n",
    "    budget: Budget of a movie in dollars. Missing values are coded as 0.\n",
    "\n",
    "    genres : Contains all the Genres Name & TMDB Id in JSON Format.\n",
    "\n",
    "    homepage - Contains the official homepage URL of a movie.\n",
    "\n",
    "    imdb_id - IMDB id of a movie (string).\n",
    "\n",
    "    original_language - Two digit code of the original language, in which the movie was made.\n",
    "\n",
    "    original_title - The original title of a movie. Title & Original title may differ, if the original title is not in English.\n",
    "\n",
    "    overview - Short description of the movie.\n",
    "\n",
    "    popularity - Popularity score of the movie.\n",
    "\n",
    "    poster_path - Path of a movie's poster.\n",
    "\n",
    "    production_companies - All production companies names and TMDB id in JSON format.\n",
    "\n",
    "    production_countries - Two digit code and full name of the production company in JSON format.\n",
    "\n",
    "    release_date - Release date of a movie in mm/dd/yy format.\n",
    "\n",
    "    runtime - Total runtime of a movie in minutes.\n",
    "\n",
    "    spoken_languages - Two digit code and full name of the spoken language.\n",
    "\n",
    "    status - Releas status of the movie: released or rumored.\n",
    "\n",
    "    tagline - Tagline of a movie\n",
    "\n",
    "    title - English title of a movie\n",
    "\n",
    "    Keywords - TMDB Id and name of all the keywords in JSON format.\n",
    "\n",
    "    cast - All cast TMDB id, name, character name, gender (1 = Female, 2 = Male) in JSON format\n",
    "\n",
    "    crew - Name, TMDB id, profile path of various kind of crew members job like Director, Writer, Art, Sound etc.\n",
    "\n",
    "    revenue - Total revenue earned by a movie in dollars."
   ]
  },
  {
   "cell_type": "code",
   "execution_count": 233,
   "metadata": {},
   "outputs": [
    {
     "data": {
      "image/png": "[encoded data removed]",
      "text/plain": [
       "<Figure size 1440x576 with 1 Axes>"
      ]
     },
     "metadata": {
      "needs_background": "light"
     },
     "output_type": "display_data"
    }
   ],
   "source": [
    "fields = dataset[[\"id\", \"title\", \"budget\", \"genres\", \"popularity\", \"release_date\", \"runtime\", \"revenue\", \"production_companies\", \"original_language\"]]\n",
    "pct_nans = round(fields.isnull().sum()/shape[0]*100,1).to_frame().sort_values(by=[0], ascending=False)\n",
    "pct_nans.iloc[5,] = round((fields[[\"budget\"]]==0).sum()/shape[0]*100,1).to_frame().iloc[0,0]\n",
    "pct_nans = pct_nans.sort_values(by=[0], ascending=False)\n",
    "plt.figure(figsize=(20,8))\n",
    "sns.barplot(x=pct_nans.index, y=pct_nans[0])\n",
    "plt.xticks(rotation=90)\n",
    "plt.title(\"Percentage of missing values\")\n",
    "plt.ylabel(\"Missing values [%]\")\n",
    "plt.show()"
   ]
  },
  {
   "cell_type": "code",
   "execution_count": 234,
   "metadata": {},
   "outputs": [
    {
     "data": {
      "text/html": [
       "<div>\n",
       "<style scoped>\n",
       "    .dataframe tbody tr th:only-of-type {\n",
       "        vertical-align: middle;\n",
       "    }\n",
       "\n",
       "    .dataframe tbody tr th {\n",
       "        vertical-align: top;\n",
       "    }\n",
       "\n",
       "    .dataframe thead th {\n",
       "        text-align: right;\n",
       "    }\n",
       "</style>\n",
       "<table border=\"1\" class=\"dataframe\">\n",
       "  <thead>\n",
       "    <tr style=\"text-align: right;\">\n",
       "      <th></th>\n",
       "      <th>id</th>\n",
       "      <th>title</th>\n",
       "      <th>budget</th>\n",
       "      <th>genres</th>\n",
       "      <th>popularity</th>\n",
       "      <th>release_date</th>\n",
       "      <th>runtime</th>\n",
       "      <th>revenue</th>\n",
       "      <th>production_companies</th>\n",
       "      <th>original_language</th>\n",
       "    </tr>\n",
       "  </thead>\n",
       "  <tbody>\n",
       "    <tr>\n",
       "      <th>0</th>\n",
       "      <td>1</td>\n",
       "      <td>Hot Tub Time Machine 2</td>\n",
       "      <td>14000000</td>\n",
       "      <td>[{'id': 35, 'name': 'Comedy'}]</td>\n",
       "      <td>6.575393</td>\n",
       "      <td>2/20/15</td>\n",
       "      <td>93.0</td>\n",
       "      <td>12314651</td>\n",
       "      <td>[{'name': 'Paramount Pictures', 'id': 4}, {'na...</td>\n",
       "      <td>en</td>\n",
       "    </tr>\n",
       "    <tr>\n",
       "      <th>1</th>\n",
       "      <td>2</td>\n",
       "      <td>The Princess Diaries 2: Royal Engagement</td>\n",
       "      <td>40000000</td>\n",
       "      <td>[{'id': 35, 'name': 'Comedy'}, {'id': 18, 'nam...</td>\n",
       "      <td>8.248895</td>\n",
       "      <td>8/6/04</td>\n",
       "      <td>113.0</td>\n",
       "      <td>95149435</td>\n",
       "      <td>[{'name': 'Walt Disney Pictures', 'id': 2}]</td>\n",
       "      <td>en</td>\n",
       "    </tr>\n",
       "    <tr>\n",
       "      <th>2</th>\n",
       "      <td>3</td>\n",
       "      <td>Whiplash</td>\n",
       "      <td>3300000</td>\n",
       "      <td>[{'id': 18, 'name': 'Drama'}]</td>\n",
       "      <td>64.299990</td>\n",
       "      <td>10/10/14</td>\n",
       "      <td>105.0</td>\n",
       "      <td>13092000</td>\n",
       "      <td>[{'name': 'Bold Films', 'id': 2266}, {'name': ...</td>\n",
       "      <td>en</td>\n",
       "    </tr>\n",
       "    <tr>\n",
       "      <th>3</th>\n",
       "      <td>4</td>\n",
       "      <td>Kahaani</td>\n",
       "      <td>1200000</td>\n",
       "      <td>[{'id': 53, 'name': 'Thriller'}, {'id': 18, 'n...</td>\n",
       "      <td>3.174936</td>\n",
       "      <td>3/9/12</td>\n",
       "      <td>122.0</td>\n",
       "      <td>16000000</td>\n",
       "      <td>NaN</td>\n",
       "      <td>hi</td>\n",
       "    </tr>\n",
       "    <tr>\n",
       "      <th>4</th>\n",
       "      <td>5</td>\n",
       "      <td>Marine Boy</td>\n",
       "      <td>0</td>\n",
       "      <td>[{'id': 28, 'name': 'Action'}, {'id': 53, 'nam...</td>\n",
       "      <td>1.148070</td>\n",
       "      <td>2/5/09</td>\n",
       "      <td>118.0</td>\n",
       "      <td>3923970</td>\n",
       "      <td>NaN</td>\n",
       "      <td>ko</td>\n",
       "    </tr>\n",
       "  </tbody>\n",
       "</table>\n",
       "</div>"
      ],
      "text/plain": [
       "   id                                     title    budget  \\\n",
       "0   1                    Hot Tub Time Machine 2  14000000   \n",
       "1   2  The Princess Diaries 2: Royal Engagement  40000000   \n",
       "2   3                                  Whiplash   3300000   \n",
       "3   4                                   Kahaani   1200000   \n",
       "4   5                                Marine Boy         0   \n",
       "\n",
       "                                              genres  popularity release_date  \\\n",
       "0                     [{'id': 35, 'name': 'Comedy'}]    6.575393      2/20/15   \n",
       "1  [{'id': 35, 'name': 'Comedy'}, {'id': 18, 'nam...    8.248895       8/6/04   \n",
       "2                      [{'id': 18, 'name': 'Drama'}]   64.299990     10/10/14   \n",
       "3  [{'id': 53, 'name': 'Thriller'}, {'id': 18, 'n...    3.174936       3/9/12   \n",
       "4  [{'id': 28, 'name': 'Action'}, {'id': 53, 'nam...    1.148070       2/5/09   \n",
       "\n",
       "   runtime   revenue                               production_companies  \\\n",
       "0     93.0  12314651  [{'name': 'Paramount Pictures', 'id': 4}, {'na...   \n",
       "1    113.0  95149435        [{'name': 'Walt Disney Pictures', 'id': 2}]   \n",
       "2    105.0  13092000  [{'name': 'Bold Films', 'id': 2266}, {'name': ...   \n",
       "3    122.0  16000000                                                NaN   \n",
       "4    118.0   3923970                                                NaN   \n",
       "\n",
       "  original_language  \n",
       "0                en  \n",
       "1                en  \n",
       "2                en  \n",
       "3                hi  \n",
       "4                ko  "
      ]
     },
     "execution_count": 234,
     "metadata": {},
     "output_type": "execute_result"
    }
   ],
   "source": [
    "fields.head()"
   ]
  },
  {
   "cell_type": "code",
   "execution_count": 235,
   "metadata": {},
   "outputs": [],
   "source": [
    "def get_genres(row):\n",
    "    if type(row) != type(\"str\") and np.isnan(row):\n",
    "            return \"None\"\n",
    "    \n",
    "    row = json.loads(row.replace(\"\\'\", \"\\\"\"))\n",
    "    genres = []\n",
    "    for genre in row:\n",
    "        genres.append(genre.get(\"name\"))\n",
    "    return genres\n",
    "    \n",
    "def get_release_date(row):\n",
    "    yr = re.findall(r\"\\d+/\\d+/(\\d+)\",row)\n",
    "\n",
    "    if int(yr[0]) >= 18:\n",
    "        return(row[:-2] + \"19\" + yr[0])\n",
    "    else:\n",
    "        return(row[:-2] + \"20\" + yr[0])\n",
    "    \n",
    "def get_production_companies(row):\n",
    "    if type(row) != type(\"str\") and np.isnan(row):\n",
    "            return \"None\"\n",
    "    text = row.replace(\"\\\"\", \"\\'\").replace(\"\\'name\\'\", \"\\\"name\\\"\").replace(\"\\'id\\'\", \"\\\"id\\\"\").replace(\": \\'\", \": \\\"\").replace(\"\\', \", \"\\\", \").replace(\"\\\\xa0\",\"\").encode('utf-8')\n",
    "    row = json.loads(text)\n",
    "    companies = []\n",
    "    for companie in row:\n",
    "        companies.append(companie.get(\"name\"))\n",
    "    return companies"
   ]
  },
  {
   "cell_type": "code",
   "execution_count": 240,
   "metadata": {
    "scrolled": true
   },
   "outputs": [
    {
     "name": "stderr",
     "output_type": "stream",
     "text": [
      "/home/claudiom/anaconda3/lib/python3.7/site-packages/pandas/core/indexing.py:543: SettingWithCopyWarning: \n",
      "A value is trying to be set on a copy of a slice from a DataFrame.\n",
      "Try using .loc[row_indexer,col_indexer] = value instead\n",
      "\n",
      "See the caveats in the documentation: http://pandas.pydata.org/pandas-docs/stable/indexing.html#indexing-view-versus-copy\n",
      "  self.obj[item] = s\n"
     ]
    }
   ],
   "source": [
    "fields.loc[:, \"production_companies\"] = dataset[\"production_companies\"].apply(get_production_companies).values\n",
    "fields.loc[:, \"release_date\"] = dataset[\"release_date\"].apply(get_release_date).values\n",
    "fields.loc[:, \"genres\"] = dataset[\"genres\"].apply(get_genres).values"
   ]
  },
  {
   "cell_type": "code",
   "execution_count": null,
   "metadata": {},
   "outputs": [],
   "source": []
  }
 ],
 "metadata": {
  "kernelspec": {
   "display_name": "Python 3",
   "language": "python",
   "name": "python3"
  },
  "language_info": {
   "codemirror_mode": {
    "name": "ipython",
    "version": 3
   },
   "file_extension": ".py",
   "mimetype": "text/x-python",
   "name": "python",
   "nbconvert_exporter": "python",
   "pygments_lexer": "ipython3",
   "version": "3.7.3"
  }
 },
 "nbformat": 4,
 "nbformat_minor": 2
}
